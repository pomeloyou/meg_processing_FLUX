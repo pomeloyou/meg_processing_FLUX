{
 "cells": [
  {
   "cell_type": "markdown",
   "metadata": {},
   "source": [
    "# 使用支持向量机进行分类\n",
    "\n",
    "多变量模式分析（MVPA）在人类电生理研究中越来越受欢迎（Cichy等人，2014；Stokes等人，2015；）。这种方法允许识别与电生理活动的分布式模式相关的代表性特定信息。在这个例子中，我们演示了如何应用支持向量机（SVM）对两类试验进行分类。\n",
    "\n",
    "## Preparation\n",
    "Import the relevant modules:"
   ]
  },
  {
   "cell_type": "code",
   "execution_count": 1,
   "metadata": {},
   "outputs": [],
   "source": [
    "import os.path as op\n",
    "import os\n",
    "import sys\n",
    "import matplotlib.pyplot as plt\n",
    "import numpy as np\n",
    "import mne\n",
    "from mne_bids import BIDSPath\n",
    "from mne.decoding import (SlidingEstimator, GeneralizingEstimator, Scaler,\n",
    "                          cross_val_multiscore, LinearModel, get_coef,\n",
    "                          Vectorizer, CSP)\n",
    "\n",
    "import sklearn.svm\n",
    "from sklearn.pipeline import make_pipeline\n",
    "from sklearn.preprocessing import StandardScaler\n",
    "from sklearn.linear_model import LogisticRegression"
   ]
  },
  {
   "cell_type": "markdown",
   "metadata": {},
   "source": [
    "分类基于Scikit-Learning（`sklearn`）包中的工具。"
   ]
  },
  {
   "cell_type": "markdown",
   "metadata": {},
   "source": [
    "Set the local paths of the data:"
   ]
  },
  {
   "cell_type": "code",
   "execution_count": 2,
   "metadata": {},
   "outputs": [
    {
     "name": "stdout",
     "output_type": "stream",
     "text": [
      "sub-01_ses-01_task-SpAtt_run-02_epo.fif /home/ubuntu/database/ds004346-FLUX/derivatives/analysis/sub-01/ses-01/meg/sub-01_ses-01_task-SpAtt_run-02_epo.fif\n"
     ]
    }
   ],
   "source": [
    "subject = '01'\n",
    "session = '01'\n",
    "task = 'SpAtt'  # name of the task\n",
    "run = '02'  # we have two runs for this subject, let's look at run = 2\n",
    "meg_suffix = 'meg'\n",
    "epo_suffix = 'epo'\n",
    "\n",
    "deriv_root = r'/home/ubuntu/database/ds004346-FLUX/derivatives/analysis'\n",
    "bids_path = BIDSPath(subject=subject, session=session,\n",
    "            task=task, run=run, suffix=epo_suffix, datatype='meg',\n",
    "            root=deriv_root, extension='.fif', check=False)\n",
    "print(bids_path.basename,bids_path.fpath)"
   ]
  },
  {
   "cell_type": "markdown",
   "metadata": {},
   "source": [
    "## 读取和准备基于试次的数据\n",
    "读取分段："
   ]
  },
  {
   "cell_type": "code",
   "execution_count": 3,
   "metadata": {
    "scrolled": true
   },
   "outputs": [
    {
     "name": "stdout",
     "output_type": "stream",
     "text": [
      "Reading /home/ubuntu/database/ds004346-FLUX/derivatives/analysis/sub-01/ses-01/meg/sub-01_ses-01_task-SpAtt_run-02_epo.fif ...\n",
      "    Found the data of interest:\n",
      "        t =   -2500.00 ...    2000.00 ms\n",
      "        0 CTF compensation matrices available\n",
      "Not setting metadata\n",
      "136 matching events found\n",
      "No baseline correction applied\n",
      "0 projection items activated\n"
     ]
    }
   ],
   "source": [
    "epochs = mne.read_epochs(bids_path.fpath,\n",
    "                         preload=True,\n",
    "                         verbose=True).pick(['meg'])"
   ]
  },
  {
   "cell_type": "markdown",
   "metadata": {},
   "source": [
    "现在过滤数据。在这种情况下，我们以10 Hz低通数据。这是在将试验切割成更短的片段之前完成的，以减少过滤的边缘效应。过滤器还用于执行数据的时间平滑，这将有利于分类。 "
   ]
  },
  {
   "cell_type": "code",
   "execution_count": 4,
   "metadata": {
    "scrolled": true
   },
   "outputs": [
    {
     "name": "stdout",
     "output_type": "stream",
     "text": [
      "Setting up low-pass filter at 10 Hz\n",
      "\n",
      "FIR filter parameters\n",
      "---------------------\n",
      "Designing a one-pass, zero-phase, non-causal lowpass filter:\n",
      "- Windowed time-domain design (firwin) method\n",
      "- Hamming window with 0.0194 passband ripple and 53 dB stopband attenuation\n",
      "- Upper passband edge: 10.00 Hz\n",
      "- Upper transition bandwidth: 2.50 Hz (-6 dB cutoff frequency: 11.25 Hz)\n",
      "- Filter length: 1321 samples (1.321 s)\n",
      "\n"
     ]
    },
    {
     "name": "stderr",
     "output_type": "stream",
     "text": [
      "[Parallel(n_jobs=1)]: Done  17 tasks      | elapsed:    0.0s\n",
      "[Parallel(n_jobs=1)]: Done  71 tasks      | elapsed:    0.0s\n",
      "[Parallel(n_jobs=1)]: Done 161 tasks      | elapsed:    0.0s\n",
      "[Parallel(n_jobs=1)]: Done 287 tasks      | elapsed:    0.1s\n",
      "[Parallel(n_jobs=1)]: Done 449 tasks      | elapsed:    0.1s\n",
      "[Parallel(n_jobs=1)]: Done 647 tasks      | elapsed:    0.1s\n",
      "[Parallel(n_jobs=1)]: Done 881 tasks      | elapsed:    0.2s\n",
      "[Parallel(n_jobs=1)]: Done 1151 tasks      | elapsed:    0.2s\n",
      "[Parallel(n_jobs=1)]: Done 1457 tasks      | elapsed:    0.3s\n",
      "[Parallel(n_jobs=1)]: Done 1799 tasks      | elapsed:    0.4s\n",
      "[Parallel(n_jobs=1)]: Done 2177 tasks      | elapsed:    0.4s\n",
      "[Parallel(n_jobs=1)]: Done 2591 tasks      | elapsed:    0.5s\n",
      "[Parallel(n_jobs=1)]: Done 3041 tasks      | elapsed:    0.6s\n",
      "[Parallel(n_jobs=1)]: Done 3527 tasks      | elapsed:    0.7s\n",
      "[Parallel(n_jobs=1)]: Done 4049 tasks      | elapsed:    0.8s\n",
      "[Parallel(n_jobs=1)]: Done 4607 tasks      | elapsed:    0.9s\n",
      "[Parallel(n_jobs=1)]: Done 5201 tasks      | elapsed:    1.0s\n",
      "[Parallel(n_jobs=1)]: Done 5831 tasks      | elapsed:    1.1s\n",
      "[Parallel(n_jobs=1)]: Done 6497 tasks      | elapsed:    1.3s\n",
      "[Parallel(n_jobs=1)]: Done 7199 tasks      | elapsed:    1.4s\n",
      "[Parallel(n_jobs=1)]: Done 7937 tasks      | elapsed:    1.5s\n",
      "[Parallel(n_jobs=1)]: Done 8711 tasks      | elapsed:    1.7s\n",
      "[Parallel(n_jobs=1)]: Done 9521 tasks      | elapsed:    1.8s\n",
      "[Parallel(n_jobs=1)]: Done 10367 tasks      | elapsed:    2.0s\n",
      "[Parallel(n_jobs=1)]: Done 11249 tasks      | elapsed:    2.2s\n",
      "[Parallel(n_jobs=1)]: Done 12167 tasks      | elapsed:    2.4s\n",
      "[Parallel(n_jobs=1)]: Done 13121 tasks      | elapsed:    2.5s\n",
      "[Parallel(n_jobs=1)]: Done 14111 tasks      | elapsed:    2.7s\n",
      "[Parallel(n_jobs=1)]: Done 15137 tasks      | elapsed:    2.9s\n",
      "[Parallel(n_jobs=1)]: Done 16199 tasks      | elapsed:    3.1s\n",
      "[Parallel(n_jobs=1)]: Done 17297 tasks      | elapsed:    3.3s\n",
      "[Parallel(n_jobs=1)]: Done 18431 tasks      | elapsed:    3.6s\n",
      "[Parallel(n_jobs=1)]: Done 19601 tasks      | elapsed:    3.8s\n",
      "[Parallel(n_jobs=1)]: Done 20807 tasks      | elapsed:    4.0s\n",
      "[Parallel(n_jobs=1)]: Done 22049 tasks      | elapsed:    4.3s\n",
      "[Parallel(n_jobs=1)]: Done 23327 tasks      | elapsed:    4.5s\n",
      "[Parallel(n_jobs=1)]: Done 24641 tasks      | elapsed:    4.8s\n",
      "[Parallel(n_jobs=1)]: Done 25991 tasks      | elapsed:    5.0s\n",
      "[Parallel(n_jobs=1)]: Done 27377 tasks      | elapsed:    5.3s\n",
      "[Parallel(n_jobs=1)]: Done 28799 tasks      | elapsed:    5.6s\n",
      "[Parallel(n_jobs=1)]: Done 30257 tasks      | elapsed:    5.8s\n",
      "[Parallel(n_jobs=1)]: Done 31751 tasks      | elapsed:    6.1s\n",
      "[Parallel(n_jobs=1)]: Done 33281 tasks      | elapsed:    6.4s\n",
      "[Parallel(n_jobs=1)]: Done 34847 tasks      | elapsed:    6.7s\n",
      "[Parallel(n_jobs=1)]: Done 36449 tasks      | elapsed:    7.0s\n",
      "[Parallel(n_jobs=1)]: Done 38087 tasks      | elapsed:    7.3s\n",
      "[Parallel(n_jobs=1)]: Done 39761 tasks      | elapsed:    7.7s\n",
      "[Parallel(n_jobs=1)]: Done 41471 tasks      | elapsed:    8.0s\n"
     ]
    }
   ],
   "source": [
    "epochs_rs = epochs.copy().filter(0,10)"
   ]
  },
  {
   "cell_type": "markdown",
   "metadata": {},
   "source": [
    "将数据下采样至100 Hz以减少计算时间。然后将感兴趣的时间窗口设置为目标激发前后的-0.1到0.5秒。 "
   ]
  },
  {
   "cell_type": "code",
   "execution_count": 5,
   "metadata": {},
   "outputs": [
    {
     "data": {
      "text/html": [
       "<script type=\"text/javascript\">\n",
       "    // must be `var` (not `const`) because this can get embedded multiple times on a page\n",
       "var toggleVisibility = (className) => {\n",
       "\n",
       "    const elements = document.querySelectorAll(`.${className}`);\n",
       "\n",
       "    elements.forEach(element => {\n",
       "        if (element.classList.contains(\"mne-repr-section-header\")) {\n",
       "            return  // Don't collapse the section header row\n",
       "        }\n",
       "        element.classList.toggle(\"mne-repr-collapsed\");\n",
       "    });\n",
       "\n",
       "    // trigger caret to rotate\n",
       "    var sel = `.mne-repr-section-header.${className} > th.mne-repr-section-toggle > button`;\n",
       "    const button = document.querySelector(sel);\n",
       "    button.classList.toggle(\"collapsed\");\n",
       "\n",
       "    // adjust tooltip\n",
       "    sel = `tr.mne-repr-section-header.${className}`;\n",
       "    const secHeadRow = document.querySelector(sel);\n",
       "    secHeadRow.classList.toggle(\"collapsed\");\n",
       "    secHeadRow.title = secHeadRow.title === \"Hide section\" ? \"Show section\" : \"Hide section\";\n",
       "}\n",
       "</script>\n",
       "\n",
       "<style type=\"text/css\">\n",
       "    /*\n",
       "Styles in this section apply both to the sphinx-built website docs and to notebooks\n",
       "rendered in an IDE or in Jupyter. In our web docs, styles here are complemented by\n",
       "doc/_static/styles.css and other CSS files (e.g. from the sphinx theme, sphinx-gallery,\n",
       "or bootstrap). In IDEs/Jupyter, those style files are unavailable, so only the rules in\n",
       "this file apply (plus whatever default styling the IDE applies).\n",
       "*/\n",
       ".mne-repr-table {\n",
       "    display: inline;  /* prevent using full container width */\n",
       "}\n",
       ".mne-repr-table tr.mne-repr-section-header > th {\n",
       "    padding-top: 1rem;\n",
       "    text-align: left;\n",
       "    vertical-align: middle;\n",
       "}\n",
       ".mne-repr-section-toggle > button {\n",
       "    all: unset;\n",
       "    display: block;\n",
       "    height: 1rem;\n",
       "    width: 1rem;\n",
       "}\n",
       ".mne-repr-section-toggle > button > svg {\n",
       "    height: 60%;\n",
       "}\n",
       "\n",
       "/* transition (rotation) effects on the collapser button */\n",
       ".mne-repr-section-toggle > button.collapsed > svg {\n",
       "    transition: 0.1s ease-out;\n",
       "    transform: rotate(-90deg);\n",
       "}\n",
       ".mne-repr-section-toggle > button:not(.collapsed) > svg {\n",
       "    transition: 0.1s ease-out;\n",
       "    transform: rotate(0deg);\n",
       "}\n",
       "\n",
       "/* hide collapsed table rows */\n",
       ".mne-repr-collapsed {\n",
       "    display: none;\n",
       "}\n",
       "\n",
       "\n",
       "@layer {\n",
       "    /*\n",
       "    Selectors in a `@layer` will always be lower-precedence than selectors outside the\n",
       "    layer. So even though e.g. `div.output_html` is present in the sphinx-rendered\n",
       "    website docs, the styles here won't take effect there as long as some other rule\n",
       "    somewhere in the page's CSS targets the same element.\n",
       "\n",
       "    In IDEs or Jupyter notebooks, though, the CSS files from the sphinx theme,\n",
       "    sphinx-gallery, and bootstrap are unavailable, so these styles will apply.\n",
       "\n",
       "    Notes:\n",
       "\n",
       "    - the selector `.accordion-body` is for MNE Reports\n",
       "    - the selector `.output_html` is for VSCode's notebook interface\n",
       "    - the selector `.jp-RenderedHTML` is for Jupyter notebook\n",
       "    - variables starting with `--theme-` are VSCode-specific.\n",
       "    - variables starting with `--jp-` are Jupyter styles, *some of which* are also\n",
       "      available in VSCode. Here we try the `--theme-` variable first, then fall back to\n",
       "      the `--jp-` ones.\n",
       "    */\n",
       "    .mne-repr-table {\n",
       "        --mne-toggle-color: var(--theme-foreground, var(--jp-ui-font-color1));\n",
       "        --mne-button-bg-color: var(--theme-button-background, var(--jp-info-color0, var(--jp-content-link-color)));\n",
       "        --mne-button-fg-color: var(--theme-button-foreground, var(--jp-ui-inverse-font-color0, var(--jp-editor-background)));\n",
       "        --mne-button-hover-bg-color: var(--theme-button-hover-background, var(--jp-info-color1));\n",
       "        --mne-button-radius: var(--jp-border-radius, 0.25rem);\n",
       "    }\n",
       "    /* chevron position/alignment; in VSCode it looks ok without adjusting */\n",
       "    .accordion-body .mne-repr-section-toggle > button,\n",
       "    .jp-RenderedHTML .mne-repr-section-toggle > button {\n",
       "        padding: 0 0 45% 25% !important;\n",
       "    }\n",
       "    /* chevron color; MNE Report doesn't have light/dark mode */\n",
       "    div.output_html .mne-repr-section-toggle > button > svg > path,\n",
       "    .jp-RenderedHTML .mne-repr-section-toggle > button > svg > path {\n",
       "        fill: var(--mne-toggle-color);\n",
       "    }\n",
       "    .accordion-body .mne-ch-names-btn,\n",
       "    div.output_html .mne-ch-names-btn,\n",
       "    .jp-RenderedHTML .mne-ch-names-btn {\n",
       "        -webkit-border-radius: var(--mne-button-radius);\n",
       "        -moz-border-radius: var(--mne-button-radius);\n",
       "        border-radius: var(--mne-button-radius);\n",
       "        border: none;\n",
       "        background-image: none;\n",
       "        background-color: var(--mne-button-bg-color);\n",
       "        color: var(--mne-button-fg-color);\n",
       "        font-size: inherit;\n",
       "        min-width: 1.5rem;\n",
       "        padding: 0.25rem;\n",
       "        text-align: center;\n",
       "        text-decoration: none;\n",
       "    }\n",
       "    .accordion-body .mne-ch-names-btn:hover,\n",
       "    div.output_html .mne.ch-names-btn:hover,\n",
       "    .jp-RenderedHTML .mne-ch-names-btn:hover {\n",
       "        background-color: var(--mne-button-hover-bg-color);\n",
       "        text-decoration: underline;\n",
       "    }\n",
       "    .accordion-body .mne-ch-names-btn:focus-visible,\n",
       "    div.output_html .mne-ch-names-btn:focus-visible,\n",
       "    .jp-RenderedHTML .mne-ch-names-btn:focus-visible {\n",
       "        outline: 0.1875rem solid var(--mne-button-bg-color) !important;\n",
       "        outline-offset: 0.1875rem !important;\n",
       "    }\n",
       "}\n",
       "</style>\n",
       "\n",
       "\n",
       "\n",
       "<table class=\"table mne-repr-table\">\n",
       "    \n",
       "\n",
       "\n",
       "\n",
       "\n",
       "\n",
       "\n",
       "\n",
       "<tr class=\"mne-repr-section-header general-4fa34f93-dfef-44b4-8b72-227ee02f7a98\"\n",
       "     title=\"Hide section\" \n",
       "    onclick=\"toggleVisibility('general-4fa34f93-dfef-44b4-8b72-227ee02f7a98')\">\n",
       "    <th class=\"mne-repr-section-toggle\">\n",
       "        <button >\n",
       "            <svg xmlns=\"http://www.w3.org/2000/svg\" viewBox=\"0 0 512 512\"><!--!Font Awesome Free 6.6.0 by @fontawesome - https://fontawesome.com License - https://fontawesome.com/license/free Copyright 2024 Fonticons, Inc.--><path d=\"M233.4 406.6c12.5 12.5 32.8 12.5 45.3 0l192-192c12.5-12.5 12.5-32.8 0-45.3s-32.8-12.5-45.3 0L256 338.7 86.6 169.4c-12.5-12.5-32.8-12.5-45.3 0s-12.5 32.8 0 45.3l192 192z\"/></svg>\n",
       "        </button>\n",
       "    </th>\n",
       "    <th colspan=\"2\">\n",
       "        <strong>General</strong>\n",
       "    </th>\n",
       "</tr>\n",
       "\n",
       "\n",
       "<tr class=\"repr-element general-4fa34f93-dfef-44b4-8b72-227ee02f7a98 \">\n",
       "    <td class=\"mne-repr-section-toggle\"></td>\n",
       "    <td>Filename(s)</td>\n",
       "    <td>\n",
       "        \n",
       "        sub-01_ses-01_task-SpAtt_run-02_epo.fif\n",
       "        \n",
       "        \n",
       "    </td>\n",
       "</tr>\n",
       "\n",
       "<tr class=\"repr-element general-4fa34f93-dfef-44b4-8b72-227ee02f7a98 \">\n",
       "    <td class=\"mne-repr-section-toggle\"></td>\n",
       "    <td>MNE object type</td>\n",
       "    <td>EpochsFIF</td>\n",
       "</tr>\n",
       "<tr class=\"repr-element general-4fa34f93-dfef-44b4-8b72-227ee02f7a98 \">\n",
       "    <td class=\"mne-repr-section-toggle\"></td>\n",
       "    <td>Measurement date</td>\n",
       "    \n",
       "    <td>2000-01-01 at 00:00:00 UTC</td>\n",
       "    \n",
       "</tr>\n",
       "<tr class=\"repr-element general-4fa34f93-dfef-44b4-8b72-227ee02f7a98 \">\n",
       "    <td class=\"mne-repr-section-toggle\"></td>\n",
       "    <td>Participant</td>\n",
       "    \n",
       "    \n",
       "    \n",
       "</tr>\n",
       "<tr class=\"repr-element general-4fa34f93-dfef-44b4-8b72-227ee02f7a98 \">\n",
       "    <td class=\"mne-repr-section-toggle\"></td>\n",
       "    <td>Experimenter</td>\n",
       "    \n",
       "    <td>mne_anonymize</td>\n",
       "    \n",
       "</tr>\n",
       "    \n",
       "\n",
       "\n",
       "\n",
       "\n",
       "\n",
       "\n",
       "\n",
       "<tr class=\"mne-repr-section-header acquisition-1f115368-44bc-4a7e-8b7f-f4b39df8d1ba\"\n",
       "     title=\"Hide section\" \n",
       "    onclick=\"toggleVisibility('acquisition-1f115368-44bc-4a7e-8b7f-f4b39df8d1ba')\">\n",
       "    <th class=\"mne-repr-section-toggle\">\n",
       "        <button >\n",
       "            <svg xmlns=\"http://www.w3.org/2000/svg\" viewBox=\"0 0 512 512\"><!--!Font Awesome Free 6.6.0 by @fontawesome - https://fontawesome.com License - https://fontawesome.com/license/free Copyright 2024 Fonticons, Inc.--><path d=\"M233.4 406.6c12.5 12.5 32.8 12.5 45.3 0l192-192c12.5-12.5 12.5-32.8 0-45.3s-32.8-12.5-45.3 0L256 338.7 86.6 169.4c-12.5-12.5-32.8-12.5-45.3 0s-12.5 32.8 0 45.3l192 192z\"/></svg>\n",
       "        </button>\n",
       "    </th>\n",
       "    <th colspan=\"2\">\n",
       "        <strong>Acquisition</strong>\n",
       "    </th>\n",
       "</tr>\n",
       "\n",
       "\n",
       "\n",
       "\n",
       "\n",
       "<tr class=\"repr-element acquisition-1f115368-44bc-4a7e-8b7f-f4b39df8d1ba \">\n",
       "    <td class=\"mne-repr-section-toggle\"></td>\n",
       "    <td>Total number of events</td>\n",
       "    <td>136</td>\n",
       "</tr>\n",
       "\n",
       "\n",
       "<tr class=\"repr-element acquisition-1f115368-44bc-4a7e-8b7f-f4b39df8d1ba \">\n",
       "    <td class=\"mne-repr-section-toggle\"></td>\n",
       "    <td>Events counts</td>\n",
       "    \n",
       "    <td>\n",
       "        \n",
       "        cue_left: 63\n",
       "        <br />\n",
       "        \n",
       "        cue_right: 73\n",
       "        \n",
       "        \n",
       "    </td>\n",
       "    \n",
       "</tr>\n",
       "\n",
       "\n",
       "<tr class=\"repr-element acquisition-1f115368-44bc-4a7e-8b7f-f4b39df8d1ba \">\n",
       "    <td class=\"mne-repr-section-toggle\"></td>\n",
       "    <td>Time range</td>\n",
       "    <td>-0.100 – 0.500 s</td>\n",
       "</tr>\n",
       "\n",
       "\n",
       "<tr class=\"repr-element acquisition-1f115368-44bc-4a7e-8b7f-f4b39df8d1ba \">\n",
       "    <td class=\"mne-repr-section-toggle\"></td>\n",
       "    <td>Baseline</td>\n",
       "    <td>off</td>\n",
       "</tr>\n",
       "\n",
       "\n",
       "<tr class=\"repr-element acquisition-1f115368-44bc-4a7e-8b7f-f4b39df8d1ba \">\n",
       "    <td class=\"mne-repr-section-toggle\"></td>\n",
       "    <td>Sampling frequency</td>\n",
       "    <td>100.00 Hz</td>\n",
       "</tr>\n",
       "\n",
       "\n",
       "<tr class=\"repr-element acquisition-1f115368-44bc-4a7e-8b7f-f4b39df8d1ba \">\n",
       "    <td class=\"mne-repr-section-toggle\"></td>\n",
       "    <td>Time points</td>\n",
       "    <td>61</td>\n",
       "</tr>\n",
       "\n",
       "\n",
       "<tr class=\"repr-element acquisition-1f115368-44bc-4a7e-8b7f-f4b39df8d1ba \">\n",
       "    <td class=\"mne-repr-section-toggle\"></td>\n",
       "    <td>Metadata</td>\n",
       "    <td>No metadata set</td>\n",
       "</tr>\n",
       "\n",
       "    \n",
       "\n",
       "\n",
       "\n",
       "\n",
       "\n",
       "\n",
       "\n",
       "<tr class=\"mne-repr-section-header channels-257f5d5d-3633-4e28-9376-986573ac561d\"\n",
       "     title=\"Hide section\" \n",
       "    onclick=\"toggleVisibility('channels-257f5d5d-3633-4e28-9376-986573ac561d')\">\n",
       "    <th class=\"mne-repr-section-toggle\">\n",
       "        <button >\n",
       "            <svg xmlns=\"http://www.w3.org/2000/svg\" viewBox=\"0 0 512 512\"><!--!Font Awesome Free 6.6.0 by @fontawesome - https://fontawesome.com License - https://fontawesome.com/license/free Copyright 2024 Fonticons, Inc.--><path d=\"M233.4 406.6c12.5 12.5 32.8 12.5 45.3 0l192-192c12.5-12.5 12.5-32.8 0-45.3s-32.8-12.5-45.3 0L256 338.7 86.6 169.4c-12.5-12.5-32.8-12.5-45.3 0s-12.5 32.8 0 45.3l192 192z\"/></svg>\n",
       "        </button>\n",
       "    </th>\n",
       "    <th colspan=\"2\">\n",
       "        <strong>Channels</strong>\n",
       "    </th>\n",
       "</tr>\n",
       "\n",
       "\n",
       "    \n",
       "<tr class=\"repr-element channels-257f5d5d-3633-4e28-9376-986573ac561d \">\n",
       "    <td class=\"mne-repr-section-toggle\"></td>\n",
       "    <td>Magnetometers</td>\n",
       "    <td>\n",
       "        <button class=\"mne-ch-names-btn sd-sphinx-override sd-btn sd-btn-info sd-text-wrap sd-shadow-sm\" onclick=\"alert('Good Magnetometers:\\n\\nMEG0111, MEG0121, MEG0131, MEG0141, MEG0211, MEG0221, MEG0231, MEG0241, MEG0311, MEG0321, MEG0331, MEG0341, MEG0411, MEG0421, MEG0431, MEG0441, MEG0511, MEG0521, MEG0531, MEG0541, MEG0611, MEG0621, MEG0631, MEG0641, MEG0711, MEG0721, MEG0731, MEG0741, MEG0811, MEG0821, MEG0911, MEG0921, MEG0931, MEG0941, MEG1011, MEG1021, MEG1031, MEG1041, MEG1111, MEG1121, MEG1131, MEG1141, MEG1211, MEG1221, MEG1231, MEG1241, MEG1311, MEG1321, MEG1331, MEG1341, MEG1411, MEG1421, MEG1431, MEG1441, MEG1511, MEG1521, MEG1531, MEG1541, MEG1611, MEG1621, MEG1631, MEG1641, MEG1711, MEG1721, MEG1731, MEG1741, MEG1811, MEG1821, MEG1831, MEG1841, MEG1911, MEG1921, MEG1931, MEG1941, MEG2011, MEG2021, MEG2031, MEG2041, MEG2111, MEG2121, MEG2131, MEG2141, MEG2211, MEG2221, MEG2231, MEG2241, MEG2311, MEG2321, MEG2331, MEG2341, MEG2411, MEG2421, MEG2431, MEG2441, MEG2511, MEG2521, MEG2531, MEG2541, MEG2611, MEG2621, MEG2631, MEG2641')\" title=\"(Click to open in popup)&#13;&#13;MEG0111, MEG0121, MEG0131, MEG0141, MEG0211, MEG0221, MEG0231, MEG0241, MEG0311, MEG0321, MEG0331, MEG0341, MEG0411, MEG0421, MEG0431, MEG0441, MEG0511, MEG0521, MEG0531, MEG0541, MEG0611, MEG0621, MEG0631, MEG0641, MEG0711, MEG0721, MEG0731, MEG0741, MEG0811, MEG0821, MEG0911, MEG0921, MEG0931, MEG0941, MEG1011, MEG1021, MEG1031, MEG1041, MEG1111, MEG1121, MEG1131, MEG1141, MEG1211, MEG1221, MEG1231, MEG1241, MEG1311, MEG1321, MEG1331, MEG1341, MEG1411, MEG1421, MEG1431, MEG1441, MEG1511, MEG1521, MEG1531, MEG1541, MEG1611, MEG1621, MEG1631, MEG1641, MEG1711, MEG1721, MEG1731, MEG1741, MEG1811, MEG1821, MEG1831, MEG1841, MEG1911, MEG1921, MEG1931, MEG1941, MEG2011, MEG2021, MEG2031, MEG2041, MEG2111, MEG2121, MEG2131, MEG2141, MEG2211, MEG2221, MEG2231, MEG2241, MEG2311, MEG2321, MEG2331, MEG2341, MEG2411, MEG2421, MEG2431, MEG2441, MEG2511, MEG2521, MEG2531, MEG2541, MEG2611, MEG2621, MEG2631, MEG2641\">\n",
       "            102\n",
       "        </button>\n",
       "\n",
       "        \n",
       "    </td>\n",
       "</tr>\n",
       "\n",
       "    \n",
       "<tr class=\"repr-element channels-257f5d5d-3633-4e28-9376-986573ac561d \">\n",
       "    <td class=\"mne-repr-section-toggle\"></td>\n",
       "    <td>Gradiometers</td>\n",
       "    <td>\n",
       "        <button class=\"mne-ch-names-btn sd-sphinx-override sd-btn sd-btn-info sd-text-wrap sd-shadow-sm\" onclick=\"alert('Good Gradiometers:\\n\\nMEG0112, MEG0113, MEG0122, MEG0123, MEG0132, MEG0133, MEG0142, MEG0143, MEG0212, MEG0213, MEG0222, MEG0223, MEG0232, MEG0233, MEG0242, MEG0243, MEG0312, MEG0313, MEG0322, MEG0323, MEG0332, MEG0333, MEG0342, MEG0343, MEG0412, MEG0413, MEG0422, MEG0423, MEG0432, MEG0433, MEG0442, MEG0443, MEG0512, MEG0513, MEG0522, MEG0523, MEG0532, MEG0533, MEG0542, MEG0543, MEG0612, MEG0613, MEG0622, MEG0623, MEG0632, MEG0633, MEG0642, MEG0643, MEG0712, MEG0713, MEG0722, MEG0723, MEG0732, MEG0733, MEG0742, MEG0743, MEG0812, MEG0813, MEG0822, MEG0823, MEG0912, MEG0913, MEG0922, MEG0923, MEG0932, MEG0933, MEG0942, MEG0943, MEG1012, MEG1013, MEG1022, MEG1023, MEG1032, MEG1033, MEG1042, MEG1043, MEG1112, MEG1113, MEG1122, MEG1123, MEG1132, MEG1133, MEG1142, MEG1143, MEG1212, MEG1213, MEG1222, MEG1223, MEG1232, MEG1233, MEG1242, MEG1243, MEG1312, MEG1313, MEG1322, MEG1323, MEG1332, MEG1333, MEG1342, MEG1343, MEG1412, MEG1413, MEG1422, MEG1423, MEG1432, MEG1433, MEG1442, MEG1443, MEG1512, MEG1513, MEG1522, MEG1523, MEG1532, MEG1533, MEG1542, MEG1543, MEG1612, MEG1613, MEG1622, MEG1623, MEG1632, MEG1633, MEG1642, MEG1643, MEG1712, MEG1713, MEG1722, MEG1723, MEG1732, MEG1733, MEG1742, MEG1743, MEG1812, MEG1813, MEG1822, MEG1823, MEG1832, MEG1833, MEG1842, MEG1843, MEG1912, MEG1913, MEG1922, MEG1923, MEG1932, MEG1933, MEG1942, MEG1943, MEG2012, MEG2013, MEG2022, MEG2023, MEG2032, MEG2033, MEG2042, MEG2043, MEG2112, MEG2113, MEG2122, MEG2123, MEG2132, MEG2133, MEG2142, MEG2143, MEG2212, MEG2213, MEG2222, MEG2223, MEG2232, MEG2233, MEG2242, MEG2243, MEG2312, MEG2313, MEG2322, MEG2323, MEG2332, MEG2333, MEG2342, MEG2343, MEG2412, MEG2413, MEG2422, MEG2423, MEG2432, MEG2433, MEG2442, MEG2443, MEG2512, MEG2513, MEG2522, MEG2523, MEG2532, MEG2533, MEG2542, MEG2543, MEG2612, MEG2613, MEG2622, MEG2623, MEG2632, MEG2633, MEG2642, MEG2643')\" title=\"(Click to open in popup)&#13;&#13;MEG0112, MEG0113, MEG0122, MEG0123, MEG0132, MEG0133, MEG0142, MEG0143, MEG0212, MEG0213, MEG0222, MEG0223, MEG0232, MEG0233, MEG0242, MEG0243, MEG0312, MEG0313, MEG0322, MEG0323, MEG0332, MEG0333, MEG0342, MEG0343, MEG0412, MEG0413, MEG0422, MEG0423, MEG0432, MEG0433, MEG0442, MEG0443, MEG0512, MEG0513, MEG0522, MEG0523, MEG0532, MEG0533, MEG0542, MEG0543, MEG0612, MEG0613, MEG0622, MEG0623, MEG0632, MEG0633, MEG0642, MEG0643, MEG0712, MEG0713, MEG0722, MEG0723, MEG0732, MEG0733, MEG0742, MEG0743, MEG0812, MEG0813, MEG0822, MEG0823, MEG0912, MEG0913, MEG0922, MEG0923, MEG0932, MEG0933, MEG0942, MEG0943, MEG1012, MEG1013, MEG1022, MEG1023, MEG1032, MEG1033, MEG1042, MEG1043, MEG1112, MEG1113, MEG1122, MEG1123, MEG1132, MEG1133, MEG1142, MEG1143, MEG1212, MEG1213, MEG1222, MEG1223, MEG1232, MEG1233, MEG1242, MEG1243, MEG1312, MEG1313, MEG1322, MEG1323, MEG1332, MEG1333, MEG1342, MEG1343, MEG1412, MEG1413, MEG1422, MEG1423, MEG1432, MEG1433, MEG1442, MEG1443, MEG1512, MEG1513, MEG1522, MEG1523, MEG1532, MEG1533, MEG1542, MEG1543, MEG1612, MEG1613, MEG1622, MEG1623, MEG1632, MEG1633, MEG1642, MEG1643, MEG1712, MEG1713, MEG1722, MEG1723, MEG1732, MEG1733, MEG1742, MEG1743, MEG1812, MEG1813, MEG1822, MEG1823, MEG1832, MEG1833, MEG1842, MEG1843, MEG1912, MEG1913, MEG1922, MEG1923, MEG1932, MEG1933, MEG1942, MEG1943, MEG2012, MEG2013, MEG2022, MEG2023, MEG2032, MEG2033, MEG2042, MEG2043, MEG2112, MEG2113, MEG2122, MEG2123, MEG2132, MEG2133, MEG2142, MEG2143, MEG2212, MEG2213, MEG2222, MEG2223, MEG2232, MEG2233, MEG2242, MEG2243, MEG2312, MEG2313, MEG2322, MEG2323, MEG2332, MEG2333, MEG2342, MEG2343, MEG2412, MEG2413, MEG2422, MEG2423, MEG2432, MEG2433, MEG2442, MEG2443, MEG2512, MEG2513, MEG2522, MEG2523, MEG2532, MEG2533, MEG2542, MEG2543, MEG2612, MEG2613, MEG2622, MEG2623, MEG2632, MEG2633, MEG2642, MEG2643\">\n",
       "            204\n",
       "        </button>\n",
       "\n",
       "        \n",
       "    </td>\n",
       "</tr>\n",
       "\n",
       "\n",
       "<tr class=\"repr-element channels-257f5d5d-3633-4e28-9376-986573ac561d \">\n",
       "    <td class=\"mne-repr-section-toggle\"></td>\n",
       "    <td>Head & sensor digitization</td>\n",
       "    \n",
       "    <td>403 points</td>\n",
       "    \n",
       "</tr>\n",
       "    \n",
       "\n",
       "\n",
       "\n",
       "\n",
       "\n",
       "\n",
       "\n",
       "<tr class=\"mne-repr-section-header filters-d827e4de-7541-4b81-b5db-c12b174154ea\"\n",
       "     title=\"Hide section\" \n",
       "    onclick=\"toggleVisibility('filters-d827e4de-7541-4b81-b5db-c12b174154ea')\">\n",
       "    <th class=\"mne-repr-section-toggle\">\n",
       "        <button >\n",
       "            <svg xmlns=\"http://www.w3.org/2000/svg\" viewBox=\"0 0 512 512\"><!--!Font Awesome Free 6.6.0 by @fontawesome - https://fontawesome.com License - https://fontawesome.com/license/free Copyright 2024 Fonticons, Inc.--><path d=\"M233.4 406.6c12.5 12.5 32.8 12.5 45.3 0l192-192c12.5-12.5 12.5-32.8 0-45.3s-32.8-12.5-45.3 0L256 338.7 86.6 169.4c-12.5-12.5-32.8-12.5-45.3 0s-12.5 32.8 0 45.3l192 192z\"/></svg>\n",
       "        </button>\n",
       "    </th>\n",
       "    <th colspan=\"2\">\n",
       "        <strong>Filters</strong>\n",
       "    </th>\n",
       "</tr>\n",
       "\n",
       "\n",
       "<tr class=\"repr-element filters-d827e4de-7541-4b81-b5db-c12b174154ea \">\n",
       "    <td class=\"mne-repr-section-toggle\"></td>\n",
       "    <td>Highpass</td>\n",
       "    <td>0.10 Hz</td>\n",
       "</tr>\n",
       "\n",
       "\n",
       "<tr class=\"repr-element filters-d827e4de-7541-4b81-b5db-c12b174154ea \">\n",
       "    <td class=\"mne-repr-section-toggle\"></td>\n",
       "    <td>Lowpass</td>\n",
       "    <td>10.00 Hz</td>\n",
       "</tr>\n",
       "\n",
       "\n",
       "</table>"
      ],
      "text/plain": [
       "<EpochsFIF | 136 events (all good), -0.1 – 0.5 s (baseline off), ~19.9 MiB, data loaded,\n",
       " 'cue_left': 63\n",
       " 'cue_right': 73>"
      ]
     },
     "execution_count": 5,
     "metadata": {},
     "output_type": "execute_result"
    }
   ],
   "source": [
    "epochs_rs.resample(100)\n",
    "epochs_rs.crop(tmin=-0.1, tmax=0.5)"
   ]
  },
  {
   "cell_type": "markdown",
   "metadata": {},
   "source": [
    "## 设置分类器\n",
    "SVM在*scikit-learn*包中实现，必须应用相应的应用程序编程接口（API）。\n",
    "矩阵$X$（特征）是一个三维矩阵（试次x导联x时间点）：\n"
   ]
  },
  {
   "cell_type": "code",
   "execution_count": 6,
   "metadata": {},
   "outputs": [
    {
     "data": {
      "text/plain": [
       "(136, 306, 61)"
      ]
     },
     "execution_count": 6,
     "metadata": {},
     "output_type": "execute_result"
    }
   ],
   "source": [
    "X = epochs_rs.get_data(picks='meg') \n",
    "X.shape"
   ]
  },
  {
   "cell_type": "markdown",
   "metadata": {},
   "source": [
    "在这种情况下，我们有256次试次和61个时间点。 "
   ]
  },
  {
   "cell_type": "markdown",
   "metadata": {},
   "source": [
    "向量$y$（也是termet目标）包含256个值，表示关注左或右试验。试次代码（分别为4和5）需要转换为值1和2："
   ]
  },
  {
   "cell_type": "code",
   "execution_count": 7,
   "metadata": {
    "collapsed": true,
    "jupyter": {
     "outputs_hidden": true
    },
    "tags": []
   },
   "outputs": [
    {
     "data": {
      "text/plain": [
       "array([[1684478,       0,       4],\n",
       "       [1691642,       0,       4],\n",
       "       [1698890,       0,       5],\n",
       "       [1705721,       0,       5],\n",
       "       [1712810,       0,       5],\n",
       "       [1728849,       0,       5],\n",
       "       [1736197,       0,       4],\n",
       "       [1745137,       0,       4],\n",
       "       [1761401,       0,       5],\n",
       "       [1769900,       0,       5],\n",
       "       [1776881,       0,       5],\n",
       "       [1783687,       0,       5],\n",
       "       [1808449,       0,       5],\n",
       "       [1817549,       0,       5],\n",
       "       [1824655,       0,       4],\n",
       "       [1833420,       0,       4],\n",
       "       [1840568,       0,       4],\n",
       "       [1847682,       0,       4],\n",
       "       [1865564,       0,       5],\n",
       "       [1872687,       0,       4],\n",
       "       [1879751,       0,       5],\n",
       "       [1887583,       0,       4],\n",
       "       [1904689,       0,       5],\n",
       "       [1913463,       0,       4],\n",
       "       [1920577,       0,       5],\n",
       "       [1929226,       0,       4],\n",
       "       [1938242,       0,       5],\n",
       "       [1946132,       0,       5],\n",
       "       [1953263,       0,       4],\n",
       "       [1961946,       0,       5],\n",
       "       [1969243,       0,       5],\n",
       "       [1978501,       0,       5],\n",
       "       [2002480,       0,       4],\n",
       "       [2011554,       0,       5],\n",
       "       [2026216,       0,       5],\n",
       "       [2033714,       0,       5],\n",
       "       [2040662,       0,       4],\n",
       "       [2048377,       0,       5],\n",
       "       [2055975,       0,       5],\n",
       "       [2072597,       0,       4],\n",
       "       [2079361,       0,       5],\n",
       "       [2094032,       0,       4],\n",
       "       [2103290,       0,       5],\n",
       "       [2110004,       0,       5],\n",
       "       [2117694,       0,       5],\n",
       "       [2126468,       0,       4],\n",
       "       [2134224,       0,       4],\n",
       "       [2150588,       0,       5],\n",
       "       [2158370,       0,       4],\n",
       "       [2173299,       0,       5],\n",
       "       [2182557,       0,       5],\n",
       "       [2190355,       0,       4],\n",
       "       [2198078,       0,       5],\n",
       "       [2212841,       0,       4],\n",
       "       [2221556,       0,       4],\n",
       "       [2236244,       0,       5],\n",
       "       [2243550,       0,       5],\n",
       "       [2267754,       0,       4],\n",
       "       [2285427,       0,       5],\n",
       "       [2293709,       0,       4],\n",
       "       [2301098,       0,       4],\n",
       "       [2309914,       0,       4],\n",
       "       [2325444,       0,       5],\n",
       "       [2333392,       0,       4],\n",
       "       [2341341,       0,       4],\n",
       "       [2359164,       0,       4],\n",
       "       [2368013,       0,       4],\n",
       "       [2376053,       0,       4],\n",
       "       [2384335,       0,       5],\n",
       "       [2392492,       0,       4],\n",
       "       [2399773,       0,       5],\n",
       "       [2417864,       0,       5],\n",
       "       [2426446,       0,       5],\n",
       "       [2433961,       0,       5],\n",
       "       [2442009,       0,       4],\n",
       "       [2457097,       0,       4],\n",
       "       [2464870,       0,       5],\n",
       "       [2473285,       0,       4],\n",
       "       [2481284,       0,       5],\n",
       "       [2507239,       0,       5],\n",
       "       [2514120,       0,       4],\n",
       "       [2523378,       0,       5],\n",
       "       [2531159,       0,       4],\n",
       "       [2540301,       0,       5],\n",
       "       [2564896,       0,       4],\n",
       "       [2571619,       0,       5],\n",
       "       [2589217,       0,       5],\n",
       "       [2598291,       0,       4],\n",
       "       [2606782,       0,       5],\n",
       "       [2614730,       0,       5],\n",
       "       [2623220,       0,       4],\n",
       "       [2636899,       0,       5],\n",
       "       [2645214,       0,       5],\n",
       "       [2654472,       0,       4],\n",
       "       [2678475,       0,       4],\n",
       "       [2694831,       0,       5],\n",
       "       [2703004,       0,       4],\n",
       "       [2711153,       0,       5],\n",
       "       [2727458,       0,       4],\n",
       "       [2734289,       0,       5],\n",
       "       [2743013,       0,       4],\n",
       "       [2758985,       0,       5],\n",
       "       [2766633,       0,       5],\n",
       "       [2774181,       0,       5],\n",
       "       [2788735,       0,       4],\n",
       "       [2797084,       0,       5],\n",
       "       [2806342,       0,       5],\n",
       "       [2814524,       0,       4],\n",
       "       [2822238,       0,       4],\n",
       "       [2839303,       0,       5],\n",
       "       [2847034,       0,       4],\n",
       "       [2856292,       0,       4],\n",
       "       [2873156,       0,       4],\n",
       "       [2881880,       0,       4],\n",
       "       [2896167,       0,       5],\n",
       "       [2903590,       0,       5],\n",
       "       [2919145,       0,       5],\n",
       "       [2926134,       0,       5],\n",
       "       [2932882,       0,       4],\n",
       "       [2939746,       0,       4],\n",
       "       [2948328,       0,       4],\n",
       "       [2955034,       0,       5],\n",
       "       [2961940,       0,       4],\n",
       "       [2970956,       0,       5],\n",
       "       [2987011,       0,       4],\n",
       "       [2994117,       0,       5],\n",
       "       [3003375,       0,       5],\n",
       "       [3010622,       0,       4],\n",
       "       [3019880,       0,       5],\n",
       "       [3033700,       0,       5],\n",
       "       [3042291,       0,       4],\n",
       "       [3050940,       0,       4],\n",
       "       [3058388,       0,       5],\n",
       "       [3067153,       0,       5],\n",
       "       [3081457,       0,       4],\n",
       "       [3090231,       0,       4]], dtype=int32)"
      ]
     },
     "execution_count": 7,
     "metadata": {},
     "output_type": "execute_result"
    }
   ],
   "source": [
    "epochs.events"
   ]
  },
  {
   "cell_type": "code",
   "execution_count": 8,
   "metadata": {},
   "outputs": [
    {
     "name": "stdout",
     "output_type": "stream",
     "text": [
      "[1 1 2 2 2 2 1 1 2 2 2 2 2 2 1 1 1 1 2 1 2 1 2 1 2 1 2 2 1 2 2 2 1 2 2 2 1\n",
      " 2 2 1 2 1 2 2 2 1 1 2 1 2 2 1 2 1 1 2 2 1 2 1 1 1 2 1 1 1 1 1 2 1 2 2 2 2\n",
      " 1 1 2 1 2 2 1 2 1 2 1 2 2 1 2 2 1 2 2 1 1 2 1 2 1 2 1 2 2 2 1 2 2 1 1 2 1\n",
      " 1 1 1 2 2 2 2 1 1 1 2 1 2 1 2 2 1 2 2 1 1 2 2 1 1]\n"
     ]
    }
   ],
   "source": [
    "temp = epochs.events[:, 2]\n",
    "temp[epochs.events[:,2] == 4] = 1\n",
    "temp[epochs.events[:,2] == 5] = 2\n",
    "y = temp\n",
    "print(y)"
   ]
  },
  {
   "cell_type": "markdown",
   "metadata": {},
   "source": [
    "函数*make_pipeline* 来自*scikit-learn*。它定义了与估计器一起使用的变换。*Vectorizer()* 将X转换为2D数组（按特征采样）。\n",
    "\n",
    "*Standard ardScaler()* 通过去除平均值并缩放为单位方差来标准化数据。"
   ]
  },
  {
   "cell_type": "code",
   "execution_count": 9,
   "metadata": {},
   "outputs": [],
   "source": [
    "clf = make_pipeline(Vectorizer(),StandardScaler(),  \n",
    "                   LinearModel(sklearn.svm.SVC(kernel = 'linear')))                          "
   ]
  },
  {
   "cell_type": "markdown",
   "metadata": {},
   "source": [
    "最后必须定义估计器。我们在这里应用 *SlidingEstimator*，它使用特征 $X$ 和目标 $y$ 作为输入，并使用 *clf* 定义管道。目的是区分实验条件随时间的变化，即，在哪些时间点我们可以区分左注意力和右注意力？"
   ]
  },
  {
   "cell_type": "code",
   "execution_count": 10,
   "metadata": {},
   "outputs": [],
   "source": [
    "time_decod = SlidingEstimator(clf, n_jobs=-1, scoring='roc_auc', verbose=True)"
   ]
  },
  {
   "cell_type": "markdown",
   "metadata": {},
   "source": [
    "## 执行分类\n",
    "分类将使用SVM逐时间点执行，方法是在5次运行中对80%的试验进行20%的测试训练。这导致5折交叉验证（*cv=5*）。输出将报告为曲线下的区域（AUC）。 "
   ]
  },
  {
   "cell_type": "code",
   "execution_count": 11,
   "metadata": {},
   "outputs": [
    {
     "name": "stderr",
     "output_type": "stream",
     "text": [
      "[Parallel(n_jobs=-1)]: Using backend LokyBackend with 256 concurrent workers.\n"
     ]
    },
    {
     "name": "stderr",
     "output_type": "stream",
     "text": [
      "\n",
      "  0%|          | Fitting SlidingEstimator : 0/61 [00:00<?,       ?it/s]\u001b[A\n",
      "\n",
      "  0%|          | Fitting SlidingEstimator : 0/61 [00:00<?,       ?it/s]\u001b[A\u001b[A\n",
      "\n",
      "\n",
      "  0%|          | Fitting SlidingEstimator : 0/61 [00:00<?,       ?it/s]\u001b[A\u001b[A\u001b[A\n",
      "\n",
      "\n",
      "\n",
      "  0%|          | Fitting SlidingEstimator : 0/61 [00:00<?,       ?it/s]\u001b[A\u001b[A\u001b[A\u001b[A\n",
      "  5%|▍         | Fitting SlidingEstimator : 3/61 [00:00<00:05,   11.45it/s]\u001b[A\n",
      "\n",
      "\n",
      " 46%|████▌     | Fitting SlidingEstimator : 28/61 [00:00<00:00,  107.66it/s]\u001b[A\u001b[A\u001b[A\n",
      "\n",
      "\n",
      "\n",
      " 33%|███▎      | Fitting SlidingEstimator : 20/61 [00:00<00:00,   81.83it/s]\u001b[A\u001b[A\u001b[A\u001b[A\n",
      "\n",
      " 41%|████      | Fitting SlidingEstimator : 25/61 [00:00<00:00,   97.09it/s]\u001b[A\u001b[A\n",
      " 90%|█████████ | Fitting SlidingEstimator : 55/61 [00:00<00:00,  190.17it/s]\u001b[A\n",
      "\n",
      "\n",
      " 74%|███████▍  | Fitting SlidingEstimator : 45/61 [00:00<00:00,  153.85it/s]\u001b[A\u001b[A\u001b[A\n",
      "\n",
      "100%|██████████| Fitting SlidingEstimator : 61/61 [00:00<00:00,  192.34it/s]\u001b[A\u001b[A\n",
      "\n",
      "\n",
      "\n",
      "100%|██████████| Fitting SlidingEstimator : 61/61 [00:00<00:00,  190.49it/s]\u001b[A\u001b[A\u001b[A\u001b[A\n",
      " 67%|██████▋   | Fitting SlidingEstimator : 41/61 [00:00<00:00,  142.05it/s]\n",
      "100%|██████████| Fitting SlidingEstimator : 61/61 [00:00<00:00,  179.02it/s]\u001b[A\n",
      "\n",
      "\n",
      "\n",
      "100%|██████████| Fitting SlidingEstimator : 61/61 [00:00<00:00,  189.14it/s]\u001b[A\u001b[A\u001b[A\n",
      "\n",
      "\n",
      "\n",
      "\n",
      "100%|██████████| Fitting SlidingEstimator : 61/61 [00:00<00:00,  187.02it/s]\u001b[A\u001b[A\u001b[A\u001b[A\n",
      "100%|██████████| Fitting SlidingEstimator : 61/61 [00:00<00:00,  182.34it/s]\n",
      "[Parallel(n_jobs=-1)]: Done   2 out of   5 | elapsed:   17.0s remaining:   25.6s\n",
      "[Parallel(n_jobs=-1)]: Done   5 out of   5 | elapsed:   17.1s finished\n"
     ]
    }
   ],
   "source": [
    "scores = cross_val_multiscore(time_decod, X, y, cv=5, n_jobs=-1)"
   ]
  },
  {
   "cell_type": "markdown",
   "metadata": {},
   "source": [
    "## 绘制结果\n",
    "为了绘制结果，平均分数并绘制："
   ]
  },
  {
   "cell_type": "code",
   "execution_count": 12,
   "metadata": {},
   "outputs": [],
   "source": [
    "scores = np.mean(scores, axis=0)"
   ]
  },
  {
   "cell_type": "code",
   "execution_count": 16,
   "metadata": {},
   "outputs": [
    {
     "data": {
      "text/plain": [
       "Text(0.5, 1.0, 'Sensor space decoding')"
      ]
     },
     "execution_count": 16,
     "metadata": {},
     "output_type": "execute_result"
    },
    {
     "data": {
      "image/png": "[encoded data removed]",
      "text/plain": [
       "<Figure size 640x480 with 1 Axes>"
      ]
     },
     "metadata": {},
     "output_type": "display_data"
    }
   ],
   "source": [
    "fig, ax = plt.subplots()\n",
    "plt.ylim([0.35, 0.7])\n",
    "ax.plot(epochs_rs.times, scores, label='score')\n",
    "ax.axhline(.5, color='k', linestyle='--', label='chance')\n",
    "\n",
    "# 找到最高点的坐标\n",
    "max_index = scores.argmax()\n",
    "max_x = epochs_rs.times[max_index]\n",
    "max_y = scores[max_index]\n",
    "\n",
    "# 标注最高点的坐标\n",
    "ax.annotate(f'({max_x:.2f}, {max_y:.2f})', \n",
    "            xy=(max_x, max_y), \n",
    "            xytext=(max_x + 0.1, max_y + 0.02), \n",
    "            arrowprops=dict(facecolor='red', shrink=0.05))\n",
    "\n",
    "ax.set_xlabel('Times')\n",
    "ax.set_ylabel('AUC')  # Area Under the Curve\n",
    "ax.legend()\n",
    "ax.axvline(.0, color='k', linestyle='-')\n",
    "ax.set_title('Sensor space decoding')"
   ]
  },
  {
   "cell_type": "markdown",
   "metadata": {},
   "source": [
    "图中显示了分类精度（AUC）随时间的变化。最佳分类在目标出现后~230毫秒获得，为~0.69。 \n"
   ]
  },
  {
   "cell_type": "markdown",
   "metadata": {},
   "source": [
    "## Preregistration and publications\n",
    "\n",
    "Publication, example:\n",
    "\n",
    "\"A multi-variate pattern analysis was applied to the MEG data to classify whether the participants attended left or right. The data were lowpass filtered at 10 Hz and then downsampled to 100 Hz. The time-points in the interval -0.1 to 0.5 s around the target onset was considered. The data were standardized by removing the mean and scaling to unit variance per sensor. A support vector machine (Cortes abd Vapnik, 1995) from Scikit-learn (https://scikit-learn.org/) was applied to classify the data as a function of time. A 5-fold cross-validation procedure was used and the classificaiton rate was reported as Area Under the Curve\""
   ]
  },
  {
   "cell_type": "markdown",
   "metadata": {},
   "source": [
    "## References \n",
    "\n",
    "* Cichy RM, Pantazis D, Oliva A.(2014) Resolving human object recognition in space and time. Nat Neurosci. 17(3):455-62. doi: 10.1038/nn.3635\n",
    "* Cortes, C, Vapnik, V (1995) Support-vector networks. Mach Learn 20, 273–297 \n",
    "* Stokes MG, Wolff MJ, Spaak E. (2015) Decoding Rich Spatial Information with High Temporal Resolution. Trends Cogn Sci. 19(11):636-638. doi: 10.1016/j.tics.2015.08.016\n",
    "\n"
   ]
  }
 ],
 "metadata": {
  "kernelspec": {
   "display_name": "torch",
   "language": "python",
   "name": "python3"
  },
  "language_info": {
   "codemirror_mode": {
    "name": "ipython",
    "version": 3
   },
   "file_extension": ".py",
   "mimetype": "text/x-python",
   "name": "python",
   "nbconvert_exporter": "python",
   "pygments_lexer": "ipython3",
   "version": "3.12.9"
  }
 },
 "nbformat": 4,
 "nbformat_minor": 4
}
